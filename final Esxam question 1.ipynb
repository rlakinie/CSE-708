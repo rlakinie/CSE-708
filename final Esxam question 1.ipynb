import numpy as np
import pandas as pd
from sklearn.preprocessing import LabelEncoder
import matplotlib.pyplot as plt
%matplotlib inline


from sklearn.neighbors import KNeighborsClassifier
dataset = pd.read_csv("Untitled 1.csv")
dataset.head(5)
X = dataset.iloc[:, 0:4].values
y_x = dataset.iloc[:, 4].values
y

le = LabelEncoder()
y = le.fit_transform(y)
classifier = KNeighborsClassifier(n_neighbors=5, metric = 'manhattan')
classifier.fit(X, y)
y

X_test = np.array([6.6, 2.9, 4.6, 1.3])
X_test = X_test.reshape(1, -1)
y_pred = classifier.predict(X_test)
y_pred
y_x
